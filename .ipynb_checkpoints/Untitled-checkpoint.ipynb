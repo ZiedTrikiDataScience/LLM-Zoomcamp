{
 "cells": [
  {
   "cell_type": "code",
   "execution_count": null,
   "id": "1660420a-b3e8-457b-a40a-5f976967f8e7",
   "metadata": {},
   "outputs": [],
   "source": [
    "from openai import OpenAI\n",
    "from mistralai import Mistral\n",
    "import os"
   ]
  },
  {
   "cell_type": "code",
   "execution_count": null,
   "id": "00662eeb",
   "metadata": {},
   "outputs": [],
   "source": [
    "api_key = os.getenv('MISTRAL_API_KEY')\n",
    "print(f\"MISTRALAI API Key: {api_key}\")"
   ]
  },
  {
   "cell_type": "code",
   "execution_count": null,
   "id": "24545aaa-bd89-4358-a295-319c9cf3b0bb",
   "metadata": {},
   "outputs": [],
   "source": [
    "#client = OpenAI(api_key=\"sk-iXB8K0ZKDi2Qsn_uaiXzT2IQxyMr3kVzk08OtZClRfT3BlbkFJGgEjVnR_wMvbS40U4OU-fR7z3vP5xSFKRQ6USaRxYA\")\n",
    "client = Mistral(api_key=api_key)"
   ]
  },
  {
   "cell_type": "code",
   "execution_count": null,
   "id": "1e7a5e96",
   "metadata": {},
   "outputs": [],
   "source": [
    "chat_response= client.chat.complete(model=\"mistral-large-latest\",\n",
    "                               messages=[{'role': 'user' , 'content': 'Is it too late to join the course please?'}])"
   ]
  },
  {
   "cell_type": "code",
   "execution_count": null,
   "id": "eab3d87e",
   "metadata": {},
   "outputs": [],
   "source": [
    "print(chat_response.choices[0].message.content)"
   ]
  },
  {
   "cell_type": "code",
   "execution_count": null,
   "id": "db1c586c",
   "metadata": {},
   "outputs": [],
   "source": []
  }
 ],
 "metadata": {
  "kernelspec": {
   "display_name": "Python 3 (ipykernel)",
   "language": "python",
   "name": "python3"
  },
  "language_info": {
   "codemirror_mode": {
    "name": "ipython",
    "version": 3
   },
   "file_extension": ".py",
   "mimetype": "text/x-python",
   "name": "python",
   "nbconvert_exporter": "python",
   "pygments_lexer": "ipython3",
   "version": "3.11.9"
  }
 },
 "nbformat": 4,
 "nbformat_minor": 5
}
