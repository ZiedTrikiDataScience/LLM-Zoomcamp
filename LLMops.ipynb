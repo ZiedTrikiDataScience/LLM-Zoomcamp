{
 "cells": [
  {
   "cell_type": "code",
   "execution_count": 1,
   "id": "1660420a-b3e8-457b-a40a-5f976967f8e7",
   "metadata": {},
   "outputs": [],
   "source": [
    "from openai import OpenAI\n",
    "from mistralai import Mistral\n",
    "import os"
   ]
  },
  {
   "cell_type": "code",
   "execution_count": null,
   "id": "96f2ca50",
   "metadata": {},
   "outputs": [],
   "source": [
    "api_key = os.getenv('MISTRAL_API_KEY')\n",
    "print(f\"MISTRALAI API Key: {api_key}\")"
   ]
  },
  {
   "cell_type": "code",
   "execution_count": 3,
   "id": "24545aaa-bd89-4358-a295-319c9cf3b0bb",
   "metadata": {},
   "outputs": [],
   "source": [
    "client = Mistral(api_key=api_key)"
   ]
  },
  {
   "cell_type": "code",
   "execution_count": 4,
   "id": "1e7a5e96",
   "metadata": {},
   "outputs": [],
   "source": [
    "chat_response= client.chat.complete(model=\"mistral-large-latest\",\n",
    "                               messages=[{'role': 'user' , 'content': 'Is it too late to join the course please?'}])"
   ]
  },
  {
   "cell_type": "code",
   "execution_count": 5,
   "id": "eab3d87e",
   "metadata": {},
   "outputs": [
    {
     "name": "stdout",
     "output_type": "stream",
     "text": [
      "I'm an assistant designed to help answer questions and provide information based on the data I've been trained on up until 2021. I don't have real-time information or the ability to browse the internet. Therefore, I can't provide a current answer to your question about joining a course.\n",
      "\n",
      "However, I can give you some general advice. Typically, whether it's too late to join a course depends on a few factors:\n",
      "\n",
      "1. **The policy of the institution or platform**: Some institutions allow late entries, while others do not.\n",
      "2. **The progress of the course**: If the course has just started, you might still be able to catch up. But if it's near the end, it might be too late.\n",
      "3. **Your personal circumstances**: If you're confident you can catch up and keep up, it might not be too late for you.\n",
      "\n",
      "The best way to find out is to contact the course provider directly. They can give you a definitive answer based on their policies and the current status of the course.\n"
     ]
    }
   ],
   "source": [
    "print(chat_response.choices[0].message.content)"
   ]
  },
  {
   "cell_type": "code",
   "execution_count": null,
   "id": "db1c586c",
   "metadata": {},
   "outputs": [],
   "source": []
  }
 ],
 "metadata": {
  "kernelspec": {
   "display_name": "Python 3 (ipykernel)",
   "language": "python",
   "name": "python3"
  },
  "language_info": {
   "codemirror_mode": {
    "name": "ipython",
    "version": 3
   },
   "file_extension": ".py",
   "mimetype": "text/x-python",
   "name": "python",
   "nbconvert_exporter": "python",
   "pygments_lexer": "ipython3",
   "version": "3.11.9"
  }
 },
 "nbformat": 4,
 "nbformat_minor": 5
}
