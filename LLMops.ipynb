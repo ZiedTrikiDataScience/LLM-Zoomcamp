{
 "cells": [
  {
   "cell_type": "code",
   "execution_count": 1,
   "id": "1660420a-b3e8-457b-a40a-5f976967f8e7",
   "metadata": {},
   "outputs": [],
   "source": [
    "from openai import OpenAI\n",
    "from mistralai import Mistral\n",
    "from together import Together\n",
    "import os"
   ]
  },
  {
   "cell_type": "code",
   "execution_count": 2,
   "id": "96f2ca50",
   "metadata": {},
   "outputs": [
    {
     "name": "stdout",
     "output_type": "stream",
     "text": [
      "TOGETHER API KEY Key: 41faa14d989378887c5149b417354c2300b2f69bdf62debd4b1d9a175adaac7b\n"
     ]
    }
   ],
   "source": [
    "#api_key = os.getenv('MISTRAL_API_KEY')\n",
    "#print(f\"MISTRALAI API Key: {api_key}\")\n",
    "\n",
    "api_key = os.getenv('TOGETHER_API_KEY')\n",
    "print(f\"TOGETHER API KEY Key: {api_key}\")"
   ]
  },
  {
   "cell_type": "code",
   "execution_count": 4,
   "id": "24545aaa-bd89-4358-a295-319c9cf3b0bb",
   "metadata": {},
   "outputs": [],
   "source": [
    "#client = Mistral(api_key=api_key)\n",
    "client = Together(api_key=api_key)"
   ]
  },
  {
   "cell_type": "code",
   "execution_count": 5,
   "id": "1e7a5e96",
   "metadata": {},
   "outputs": [],
   "source": [
    "# mistral : \n",
    "# chat_response= client.chat.complete(model=\"mistral-large-latest\",\n",
    "#                               messages=[{'role': 'user' , 'content': 'Is it too late to join the course please?'}])\n",
    "\n",
    "\n",
    "# together :\n",
    "response = client.chat.completions.create(\n",
    "    model=\"meta-llama/Meta-Llama-3.1-8B-Instruct-Turbo\",\n",
    "    messages=[{'role': 'user' , 'content': 'Is it too late to join the course please?'}]\n",
    ")"
   ]
  },
  {
   "cell_type": "code",
   "execution_count": 7,
   "id": "eab3d87e",
   "metadata": {},
   "outputs": [
    {
     "name": "stdout",
     "output_type": "stream",
     "text": [
      "This conversation has just begun. I'm happy to chat with you, but I don't have any information about a specific course. Could you please provide more context or information about the course you're referring to? I'll do my best to help you determine if it's too late to join.\n"
     ]
    }
   ],
   "source": [
    "# mistral : print(chat_response.choices[0].message.content)\n",
    "# together : \n",
    "print(response.choices[0].message.content)"
   ]
  }
 ],
 "metadata": {
  "kernelspec": {
   "display_name": "Python 3 (ipykernel)",
   "language": "python",
   "name": "python3"
  },
  "language_info": {
   "codemirror_mode": {
    "name": "ipython",
    "version": 3
   },
   "file_extension": ".py",
   "mimetype": "text/x-python",
   "name": "python",
   "nbconvert_exporter": "python",
   "pygments_lexer": "ipython3",
   "version": "3.11.9"
  }
 },
 "nbformat": 4,
 "nbformat_minor": 5
}
